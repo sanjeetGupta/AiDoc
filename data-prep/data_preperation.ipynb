{
 "cells": [
  {
   "cell_type": "markdown",
   "metadata": {
    "ExecuteTime": {
     "end_time": "2020-08-28T06:46:23.876548Z",
     "start_time": "2020-08-28T06:46:23.777372Z"
    }
   },
   "source": [
    "## Data Cleaning Notebook\n",
    "\n",
    "* Data used has been scraped from multiple health websites on the internet.\n",
    "* A total of about 7 lakh questions and answers have been scraped.\n",
    "* this notebook analyses and cleans the data."
   ]
  },
  {
   "cell_type": "code",
   "execution_count": 2,
   "metadata": {
    "ExecuteTime": {
     "end_time": "2020-08-27T15:32:43.617671Z",
     "start_time": "2020-08-27T15:32:43.604703Z"
    }
   },
   "outputs": [],
   "source": [
    "import pandas as pd\n",
    "import os\n",
    "import ast\n",
    "from tqdm import tqdm\n",
    "tqdm.pandas()\n",
    "import re\n",
    "import unicodedata\n",
    "%matplotlib inline"
   ]
  },
  {
   "cell_type": "markdown",
   "metadata": {},
   "source": [
    "## Read data into a Data frame"
   ]
  },
  {
   "cell_type": "code",
   "execution_count": 3,
   "metadata": {
    "ExecuteTime": {
     "end_time": "2020-08-27T15:33:31.038289Z",
     "start_time": "2020-08-27T15:32:44.328583Z"
    }
   },
   "outputs": [
    {
     "name": "stderr",
     "output_type": "stream",
     "text": [
      "100%|█████████████████████████████████████████████████████████████████████████| 42647/42647 [00:04<00:00, 10431.94it/s]\n",
      "  0%|                                                                                        | 0/12929 [00:00<?, ?it/s]"
     ]
    },
    {
     "name": "stdout",
     "output_type": "stream",
     "text": [
      "Pass    42644\n",
      "Fail        3\n",
      "dtype: int64\n"
     ]
    },
    {
     "name": "stderr",
     "output_type": "stream",
     "text": [
      "100%|█████████████████████████████████████████████████████████████████████████| 12929/12929 [00:01<00:00, 12064.30it/s]\n",
      " 20%|███████████████▌                                                             | 901/4474 [00:00<00:00, 9007.17it/s]"
     ]
    },
    {
     "name": "stdout",
     "output_type": "stream",
     "text": [
      "Pass    12927\n",
      "Fail        2\n",
      "dtype: int64\n"
     ]
    },
    {
     "name": "stderr",
     "output_type": "stream",
     "text": [
      "100%|███████████████████████████████████████████████████████████████████████████| 4474/4474 [00:00<00:00, 10991.53it/s]\n",
      " 10%|███████▉                                                                     | 895/8673 [00:00<00:00, 8864.37it/s]"
     ]
    },
    {
     "name": "stdout",
     "output_type": "stream",
     "text": [
      "Pass    4470\n",
      "Fail       4\n",
      "dtype: int64\n"
     ]
    },
    {
     "name": "stderr",
     "output_type": "stream",
     "text": [
      "100%|███████████████████████████████████████████████████████████████████████████| 8673/8673 [00:00<00:00, 11352.12it/s]\n"
     ]
    },
    {
     "name": "stdout",
     "output_type": "stream",
     "text": [
      "Pass    8670\n",
      "Fail       3\n",
      "dtype: int64\n"
     ]
    },
    {
     "name": "stderr",
     "output_type": "stream",
     "text": [
      "100%|█████████████████████████████████████████████████████████████████████████| 26224/26224 [00:02<00:00, 12510.46it/s]\n"
     ]
    },
    {
     "name": "stdout",
     "output_type": "stream",
     "text": [
      "Pass    26222\n",
      "Fail        2\n",
      "dtype: int64\n"
     ]
    },
    {
     "name": "stderr",
     "output_type": "stream",
     "text": [
      "100%|██████████████████████████████████████████████████████████████████████████| 22493/22493 [00:02<00:00, 8327.19it/s]\n"
     ]
    },
    {
     "name": "stdout",
     "output_type": "stream",
     "text": [
      "Pass    22486\n",
      "Fail        7\n",
      "dtype: int64\n"
     ]
    },
    {
     "name": "stderr",
     "output_type": "stream",
     "text": [
      "100%|█████████████████████████████████████████████████████████████████████████| 28690/28690 [00:02<00:00, 13204.37it/s]\n"
     ]
    },
    {
     "name": "stdout",
     "output_type": "stream",
     "text": [
      "Pass    28680\n",
      "Fail       10\n",
      "dtype: int64\n"
     ]
    },
    {
     "name": "stderr",
     "output_type": "stream",
     "text": [
      "100%|█████████████████████████████████████████████████████████████████████████| 18545/18545 [00:01<00:00, 11465.02it/s]\n"
     ]
    },
    {
     "name": "stdout",
     "output_type": "stream",
     "text": [
      "Pass    18527\n",
      "Fail       18\n",
      "dtype: int64\n"
     ]
    },
    {
     "name": "stderr",
     "output_type": "stream",
     "text": [
      "100%|█████████████████████████████████████████████████████████████████████████| 42422/42422 [00:03<00:00, 12168.08it/s]\n",
      "  0%|                                                                                        | 0/13766 [00:00<?, ?it/s]"
     ]
    },
    {
     "name": "stdout",
     "output_type": "stream",
     "text": [
      "Pass    42401\n",
      "Fail       21\n",
      "dtype: int64\n"
     ]
    },
    {
     "name": "stderr",
     "output_type": "stream",
     "text": [
      "100%|█████████████████████████████████████████████████████████████████████████| 13766/13766 [00:01<00:00, 12741.90it/s]\n",
      " 12%|█████████▏                                                                 | 1157/9497 [00:00<00:00, 11455.60it/s]"
     ]
    },
    {
     "name": "stdout",
     "output_type": "stream",
     "text": [
      "Pass    13765\n",
      "Fail        1\n",
      "dtype: int64\n"
     ]
    },
    {
     "name": "stderr",
     "output_type": "stream",
     "text": [
      "100%|███████████████████████████████████████████████████████████████████████████| 9497/9497 [00:00<00:00, 13190.29it/s]\n",
      "  0%|                                                                                        | 0/13731 [00:00<?, ?it/s]"
     ]
    },
    {
     "name": "stdout",
     "output_type": "stream",
     "text": [
      "Pass    9497\n",
      "dtype: int64\n"
     ]
    },
    {
     "name": "stderr",
     "output_type": "stream",
     "text": [
      "100%|█████████████████████████████████████████████████████████████████████████| 13731/13731 [00:01<00:00, 13216.07it/s]\n"
     ]
    },
    {
     "name": "stdout",
     "output_type": "stream",
     "text": [
      "Pass    13715\n",
      "Fail       16\n",
      "dtype: int64\n"
     ]
    },
    {
     "name": "stderr",
     "output_type": "stream",
     "text": [
      "100%|█████████████████████████████████████████████████████████████████████████| 32320/32320 [00:02<00:00, 11567.64it/s]\n"
     ]
    },
    {
     "name": "stdout",
     "output_type": "stream",
     "text": [
      "Pass    32318\n",
      "Fail        2\n",
      "dtype: int64\n"
     ]
    },
    {
     "name": "stderr",
     "output_type": "stream",
     "text": [
      "100%|█████████████████████████████████████████████████████████████████████████| 28344/28344 [00:02<00:00, 12020.35it/s]\n",
      "100%|████████████████████████████████████████████████████████████████████████████████| 72/72 [00:00<00:00, 3272.89it/s]\n",
      "  0%|                                                                                         | 0/8048 [00:00<?, ?it/s]"
     ]
    },
    {
     "name": "stdout",
     "output_type": "stream",
     "text": [
      "Pass    28312\n",
      "Fail       32\n",
      "dtype: int64\n",
      "Pass    72\n",
      "dtype: int64\n"
     ]
    },
    {
     "name": "stderr",
     "output_type": "stream",
     "text": [
      "100%|███████████████████████████████████████████████████████████████████████████| 8048/8048 [00:00<00:00, 11100.71it/s]\n"
     ]
    },
    {
     "name": "stdout",
     "output_type": "stream",
     "text": [
      "Pass    8041\n",
      "Fail       7\n",
      "dtype: int64\n"
     ]
    },
    {
     "name": "stderr",
     "output_type": "stream",
     "text": [
      "100%|███████████████████████████████████████████████████████████████████████| 122485/122485 [00:10<00:00, 12156.32it/s]\n"
     ]
    },
    {
     "name": "stdout",
     "output_type": "stream",
     "text": [
      "Pass    122468\n",
      "Fail        17\n",
      "dtype: int64\n"
     ]
    },
    {
     "name": "stderr",
     "output_type": "stream",
     "text": [
      "100%|█████████████████████████████████████████████████████████████████████████| 29625/29625 [00:02<00:00, 12724.66it/s]\n"
     ]
    },
    {
     "name": "stdout",
     "output_type": "stream",
     "text": [
      "Pass    29621\n",
      "Fail        4\n",
      "dtype: int64\n"
     ]
    },
    {
     "name": "stderr",
     "output_type": "stream",
     "text": [
      "100%|██████████████████████████████████████████████████████████████████████████| 13988/13988 [00:01<00:00, 8795.75it/s]"
     ]
    },
    {
     "name": "stdout",
     "output_type": "stream",
     "text": [
      "Pass    13968\n",
      "Fail       20\n",
      "dtype: int64\n"
     ]
    },
    {
     "name": "stderr",
     "output_type": "stream",
     "text": [
      "\n"
     ]
    }
   ],
   "source": [
    "DATA_DICT_LIST = []\n",
    "\n",
    "def flatten_samples(x,category):\n",
    "    try:\n",
    "        al= set()\n",
    "        question_dt = ast.literal_eval(x['question'])\n",
    "        answer_list = ast.literal_eval(x['answers'])\n",
    "        for answer in answer_list:\n",
    "            if answer['answer'] not in al:\n",
    "                al.add(answer['answer'])\n",
    "                dt = {}\n",
    "                dt['question'] = question_dt['question']\n",
    "                dt['age'] = question_dt['age']\n",
    "                dt['gender'] = question_dt['gender'][0].upper()\n",
    "                dt['symptom_summary'] = question_dt['title']\n",
    "                dt['doctor'] = answer['doctor']\n",
    "                dt['speciality'] = answer['speciality']\n",
    "                dt['answer'] = answer['answer']\n",
    "                dt['category']  = category\n",
    "                DATA_DICT_LIST.append(dt)\n",
    "    except:\n",
    "        return 'Fail'\n",
    "    return 'Pass'\n",
    "\n",
    "\n",
    "folder = r'C:\\Users\\sanjeet\\Desktop\\mycode\\ai-doc-raw-data\\raw_data\\Answers_to_Scraped_questions_tsv_files'\n",
    "files = os.listdir(folder)\n",
    "for file in files:\n",
    "    df = pd.read_csv(folder + '/'+ file,sep='\\t')\n",
    "    status = df.progress_apply((lambda x: flatten_samples(x,file.replace('.tsv',''))),axis = 1)\n",
    "    print(status.value_counts())"
   ]
  },
  {
   "cell_type": "code",
   "execution_count": 4,
   "metadata": {
    "ExecuteTime": {
     "end_time": "2020-08-27T15:33:32.339324Z",
     "start_time": "2020-08-27T15:33:31.040286Z"
    }
   },
   "outputs": [],
   "source": [
    "complete_data = pd.DataFrame(DATA_DICT_LIST)"
   ]
  },
  {
   "cell_type": "markdown",
   "metadata": {},
   "source": [
    "## Add treatment category \n",
    "Based on the doctor's speciality we can add the type of treatment \n",
    "i.e. allopathy or non - allopathy (ayurveda, homeopathy, unani etc).\n",
    "This can be used in the future to control the text generation output, as in the user can choose the type of treatment.\n"
   ]
  },
  {
   "cell_type": "code",
   "execution_count": 5,
   "metadata": {
    "ExecuteTime": {
     "end_time": "2020-08-27T15:33:37.372322Z",
     "start_time": "2020-08-27T15:33:32.342287Z"
    }
   },
   "outputs": [
    {
     "name": "stdout",
     "output_type": "stream",
     "text": [
      "24                                     Internal Medicine\n",
      "35                                              Ayurveda\n",
      "46                                  Alternative Medicine\n",
      "51                                             homeopath\n",
      "52                                            Homoeopath\n",
      "71                                  Yoga and Naturopathy\n",
      "81                                 Sexologist (Ayurveda)\n",
      "165                            Ayurvedic Ophthalmologist\n",
      "191                           Ayurvedic General Medicine\n",
      "193                                    Electro Homeopath\n",
      "232                                                Unani\n",
      "266    Ayurvedic Endocrinologist & Internal Medicine ...\n",
      "dtype: object\n",
      "allopathy        700319\n",
      "non-allopathy     13624\n",
      "Name: treatment_type, dtype: int64\n"
     ]
    }
   ],
   "source": [
    "specialities = pd.Series(complete_data['speciality'].unique())\n",
    "other_specialities = specialities[specialities.apply(lambda x: 'ayur' in x.lower() or 'alternat' in x.lower() or 'homoeo' in x.lower() or 'homeo' in x.lower() or 'unani' in x.lower() or 'internal' in x.lower() or 'naturo' in x.lower() or 'yoga' in x.lower())]\n",
    "print(other_specialities)\n",
    "complete_data['treatment_type'] = complete_data['speciality'].apply(lambda x: 'non-allopathy' if x in other_specialities.to_list() else 'allopathy')\n",
    "print(complete_data['treatment_type'].value_counts())"
   ]
  },
  {
   "cell_type": "markdown",
   "metadata": {},
   "source": [
    "for this version let's only use the allopathy answers"
   ]
  },
  {
   "cell_type": "code",
   "execution_count": 6,
   "metadata": {
    "ExecuteTime": {
     "end_time": "2020-08-27T15:33:37.899289Z",
     "start_time": "2020-08-27T15:33:37.374287Z"
    }
   },
   "outputs": [
    {
     "name": "stdout",
     "output_type": "stream",
     "text": [
      "(700319, 9)\n"
     ]
    }
   ],
   "source": [
    "complete_data =complete_data[complete_data['treatment_type']=='allopathy']\n",
    "print(complete_data.shape)"
   ]
  },
  {
   "cell_type": "markdown",
   "metadata": {},
   "source": [
    "## Cleaning the 'speciality' column\n",
    "\n",
    "There are 295 Unique values in the speciality column upon analysing them I found that many of the specialities are repeated with different words for example ENT vs Otorhinolaryngologist."
   ]
  },
  {
   "cell_type": "code",
   "execution_count": 7,
   "metadata": {
    "ExecuteTime": {
     "end_time": "2020-08-27T15:33:38.261392Z",
     "start_time": "2020-08-27T15:33:37.901285Z"
    }
   },
   "outputs": [
    {
     "name": "stdout",
     "output_type": "stream",
     "text": [
      "(283,)\n"
     ]
    }
   ],
   "source": [
    "specialities = pd.Series(complete_data['speciality'].unique())\n",
    "print(specialities.shape)\n",
    "specialities_map = {}\n",
    "\n",
    "for spec  in specialities[specialities.apply(lambda x: 'psycho' in x.lower())] :\n",
    "    if spec not in specialities_map:\n",
    "        specialities_map[spec] = 'Psychologist'\n",
    "for spec  in specialities[specialities.apply(lambda x: 'dermat' in x.lower() or 'tricho' in x.lower())]:\n",
    "    if spec not in specialities_map:\n",
    "        specialities_map[spec] = 'Dermatologist'\n",
    "for spec in specialities[specialities.apply(lambda x: ('nutri' in x.lower() or 'diet' in x.lower()))]:\n",
    "    if spec not in specialities_map:\n",
    "        specialities_map[spec] = 'Dietitian/Nutritionist'\n",
    "for spec in specialities[specialities.apply(lambda x: ('gynec' in x.lower() or 'obstetric' in x.lower()))]:\n",
    "    if spec not in specialities_map:\n",
    "        specialities_map[spec] = 'Gynecologist/Obstetrician'\n",
    "for spec in specialities[specialities.apply(lambda x: ('opthal' in x.lower() or ('ophthal' in x.lower()) or ('eye' in x.lower())) )]:\n",
    "    if spec not in specialities_map:\n",
    "        specialities_map[spec] = 'Ophthalmologist/ Eye Surgeon'\n",
    "for spec in specialities[specialities.apply(lambda x: ('dent' in x.lower() or 'orthodon' in x.lower() or 'prosthodon' in x.lower()))]:\n",
    "    if spec not in specialities_map:\n",
    "        specialities_map[spec] = 'Dentist'\n",
    "for spec in specialities[specialities.apply(lambda x: (('ortho' in x.lower() or 'joint' in x.lower() or 'sport' in x.lower()) and 'nutri' not in x.lower() and 'psycho' not in x.lower()))]:\n",
    "    if spec not in specialities_map:\n",
    "        specialities_map[spec] = 'Orthopedist'\n",
    "for spec in specialities[specialities.apply(lambda x: ('psychi' in x.lower()))]:\n",
    "    if spec not in specialities_map:\n",
    "        specialities_map[spec] = 'Psychiatrist'\n",
    "for spec in specialities[specialities.apply(lambda x: ('cardi' in x.lower()))]:\n",
    "    if spec not in specialities_map:\n",
    "        specialities_map[spec] = 'Cardiologist'\n",
    "for spec in specialities[specialities.apply(lambda x: ('pulmon' in x.lower()))]:\n",
    "    if spec not in specialities_map:\n",
    "        specialities_map[spec] = 'Pulmonologist'\n",
    "for spec in specialities[specialities.apply(lambda x: ('Urol' in x))]:\n",
    "    if spec not in specialities_map:\n",
    "        specialities_map[spec] = 'Urologist'\n",
    "for spec in specialities[specialities.apply(lambda x: ('gastro' in x.lower()))]:\n",
    "    if spec not in specialities_map:\n",
    "        specialities_map[spec] = 'Gastroenterologist'\n",
    "for spec in specialities[specialities.apply(lambda x: ('physio' in x.lower()))]:\n",
    "    if spec not in specialities_map:\n",
    "        specialities_map[spec] = 'Physiotherapist'\n",
    "for spec in specialities[specialities.apply(lambda x: ('onco' in x.lower()))]:\n",
    "    if spec not in specialities_map:\n",
    "        specialities_map[spec] = 'Oncologist'\n",
    "for spec in specialities[specialities.apply(lambda x: ('ENT' in x) or ('otorhino' in x))]:\n",
    "    if spec not in specialities_map:\n",
    "        specialities_map[spec] = 'ENT/ Otorhinolaryngologist'\n",
    "for spec in specialities[specialities.apply(lambda x: 'cosme' in x.lower() or 'aesthe' in x.lower() or 'plastic' in x.lower())]:\n",
    "    if spec not in specialities_map:\n",
    "        specialities_map[spec] = 'Cosmetologist/Plastic Surgeon'\n",
    "for spec in specialities[specialities.apply(lambda x: ('rheuma' in x.lower()))]:\n",
    "    if spec not in specialities_map:\n",
    "        specialities_map[spec] = 'Orthopedist'      \n",
    "for spec in specialities[specialities.apply(lambda x: ('infertility' in x.lower() or 'infertilty' in x.lower()))]:\n",
    "    if spec not in specialities_map:\n",
    "        specialities_map[spec] = 'Infertility Specialist'\n",
    "for spec in specialities[specialities.apply(lambda x: ('endocri' in x.lower()))]:\n",
    "    if spec not in specialities_map:\n",
    "        specialities_map[spec] = 'Endocrinologist'     \n",
    "for spec in specialities[specialities.apply(lambda x: ('neuro' in x.lower() and 'neuroto' not in x.lower()))]:\n",
    "    if spec not in specialities_map:\n",
    "        specialities_map[spec] = 'Neurologist'\n",
    "for spec in specialities[specialities.apply(lambda x: ( ('nephro' in x.lower()) or ('kidney' in x.lower()) or ('renal' in x.lower())))]:\n",
    "    if spec not in specialities_map:\n",
    "        specialities_map[spec] = 'Nephrologist'\n",
    "for spec in specialities[specialities.apply(lambda x: ( ('speech' in x.lower())))]:\n",
    "    if spec not in specialities_map:\n",
    "        specialities_map[spec] = 'Speech Therapist'\n",
    "for spec in specialities[specialities.apply(lambda x: ( ('anesthesio' in x.lower())))]:\n",
    "    if spec not in specialities_map:\n",
    "        specialities_map[spec] = 'Anesthesiologist'\n",
    "for spec in specialities[specialities.apply(lambda x: ('neuroto' in x.lower() and 'otolo' in x.lower()))]:\n",
    "    if spec not in specialities_map:\n",
    "        specialities_map[spec] = 'Otologist/ Neurotologist'\n",
    "        \n",
    "complete_data['cleaned_specialities'] = complete_data['speciality'].apply(lambda x: specialities_map[x] if x in specialities_map else x)\n",
    "\n"
   ]
  },
  {
   "cell_type": "code",
   "execution_count": 8,
   "metadata": {
    "ExecuteTime": {
     "end_time": "2020-08-27T15:33:38.273287Z",
     "start_time": "2020-08-27T15:33:38.263319Z"
    }
   },
   "outputs": [
    {
     "data": {
      "text/plain": [
       "{'Counselling Psychologist': 'Psychologist',\n",
       " 'Psychotherapist': 'Psychologist',\n",
       " 'Psychologist': 'Psychologist',\n",
       " 'Clinical Psychologist': 'Psychologist',\n",
       " 'Health Psychologist': 'Psychologist',\n",
       " 'Educational Psychologist': 'Psychologist',\n",
       " 'Neuropsychologist': 'Psychologist',\n",
       " 'Family Psychologist': 'Psychologist',\n",
       " 'Sports Psychologist': 'Psychologist',\n",
       " 'Sexual Psychologist': 'Psychologist',\n",
       " 'Dermatologist': 'Dermatologist',\n",
       " 'Immunodermatologist': 'Dermatologist',\n",
       " 'Trichologist': 'Dermatologist',\n",
       " 'Dermatosurgeon': 'Dermatologist',\n",
       " 'Aesthetic Dermatologist': 'Dermatologist',\n",
       " 'Dermatologist/Cosmetologist': 'Dermatologist',\n",
       " 'Dermatopathologist': 'Dermatologist',\n",
       " 'Cosmetic Dermatovenereologist': 'Dermatologist',\n",
       " 'Pediatric Dermatologist': 'Dermatologist',\n",
       " 'Dermatovenereologist': 'Dermatologist',\n",
       " 'Dietitian/Nutritionist': 'Dietitian/Nutritionist',\n",
       " 'Pediatric Parenteral and Enteral Nutritionist': 'Dietitian/Nutritionist',\n",
       " 'Clinical Nutritionist': 'Dietitian/Nutritionist',\n",
       " 'Sports Nutritionist': 'Dietitian/Nutritionist',\n",
       " 'Parenteral and Enteral Nutritionist': 'Dietitian/Nutritionist',\n",
       " 'Gynecologist': 'Gynecologist/Obstetrician',\n",
       " 'Obstetrician': 'Gynecologist/Obstetrician',\n",
       " 'Gynecologic Oncologist': 'Gynecologist/Obstetrician',\n",
       " 'Gynecologist/Obstetrician': 'Gynecologist/Obstetrician',\n",
       " 'Obstetrics & Gynecology': 'Gynecologist/Obstetrician',\n",
       " 'Social Obstetrics and Gynecologist': 'Gynecologist/Obstetrician',\n",
       " 'Gynecology & Obstetrics Ultrasonologist': 'Gynecologist/Obstetrician',\n",
       " 'Urogynecologist': 'Gynecologist/Obstetrician',\n",
       " ' Social Obstetrics and Gynecologist': 'Gynecologist/Obstetrician',\n",
       " 'Ophthalmologist/ Eye Surgeon': 'Ophthalmologist/ Eye Surgeon',\n",
       " 'Ophthalmologist': 'Ophthalmologist/ Eye Surgeon',\n",
       " 'Pediatric Ophthalmologist and Strabismus Specialist': 'Ophthalmologist/ Eye Surgeon',\n",
       " 'Dentist': 'Dentist',\n",
       " 'Dental Surgeon': 'Dentist',\n",
       " 'Prosthodontist': 'Dentist',\n",
       " 'Orthodontist': 'Dentist',\n",
       " 'Cosmetic/Aesthetic Dentist': 'Dentist',\n",
       " 'Pediatric Dentist': 'Dentist',\n",
       " 'Orthodontist & Dentofacial Orthopedist': 'Dentist',\n",
       " 'Dentist for Patients with Special Needs': 'Dentist',\n",
       " 'Preventive Dentistry': 'Dentist',\n",
       " 'Restorative Dentist': 'Dentist',\n",
       " 'Conservative Dentist': 'Dentist',\n",
       " 'Operative Dentist': 'Dentist',\n",
       " 'Dentofacial Orthopedist': 'Dentist',\n",
       " 'Public Health Dentist': 'Dentist',\n",
       " 'Orthopedist': 'Orthopedist',\n",
       " 'Joint Replacement Surgeon': 'Orthopedist',\n",
       " 'Pediatric Orthopedist': 'Orthopedist',\n",
       " 'Ortho surgeon': 'Orthopedist',\n",
       " 'Sport Injury Specialist': 'Orthopedist',\n",
       " 'Orthopedist and Traumatology Specialist': 'Orthopedist',\n",
       " 'Orthopaedic Surgeon': 'Orthopedist',\n",
       " 'Orthopedist of Inferior Extremity': 'Orthopedist',\n",
       " 'Sports Medicine Surgeon': 'Orthopedist',\n",
       " 'Orthopedic Surgeon': 'Orthopedist',\n",
       " 'Pediatric Orthopedic Surgeon': 'Orthopedist',\n",
       " 'Orthopaedics': 'Orthopedist',\n",
       " 'Orthopedic Physiotherapist': 'Orthopedist',\n",
       " 'Sports and Musculoskeletal Physiotherapist': 'Orthopedist',\n",
       " 'Sports Medicine Physician': 'Orthopedist',\n",
       " 'Sports Medicine Specialist': 'Orthopedist',\n",
       " 'Trauma & Orthopedic Physiotherapist': 'Orthopedist',\n",
       " 'Trauma & Orthopaedic Physiotherapist': 'Orthopedist',\n",
       " 'Psychiatrist': 'Psychiatrist',\n",
       " 'Addiction Psychiatrist': 'Psychiatrist',\n",
       " 'Adolescent And Child Psychiatrist': 'Psychiatrist',\n",
       " 'Geriatric Psychiatrist': 'Psychiatrist',\n",
       " 'Neuropsychiatrist': 'Psychiatrist',\n",
       " 'Consultation-Liaison Psychiatrist': 'Psychiatrist',\n",
       " 'Psychiatry': 'Psychiatrist',\n",
       " 'Biological Psychiatrist': 'Psychiatrist',\n",
       " 'Cardiovascular & Pulmonary Physiotherapist': 'Cardiologist',\n",
       " 'Cardiovascular And Pulmonary Physiotherapist': 'Cardiologist',\n",
       " 'Cardiologist': 'Cardiologist',\n",
       " 'Pediatric Cardiologist': 'Cardiologist',\n",
       " 'Cardiology': 'Cardiologist',\n",
       " 'Preventive Cardiologist and Rehabilitation Specialist': 'Cardiologist',\n",
       " 'Cardiothoracic Surgeon': 'Cardiologist',\n",
       " 'Interventional Cardiologist': 'Cardiologist',\n",
       " 'Cardiac Surgeon': 'Cardiologist',\n",
       " 'Cardiothoracic and Vascular Surgeon': 'Cardiologist',\n",
       " 'Echocardiologist': 'Cardiologist',\n",
       " 'Vascular Cardiologist': 'Cardiologist',\n",
       " 'Pulmonologist': 'Pulmonologist',\n",
       " 'Interventional Pulmonology and Respiratory Emergency Specialist': 'Pulmonologist',\n",
       " 'Asthma and Chronic Obstructive Pulmonary Disease Specialist': 'Pulmonologist',\n",
       " 'Pulmonary Infection Specialist': 'Pulmonologist',\n",
       " 'Paediatric Pulmonology': 'Pulmonologist',\n",
       " 'Pediatric Urologist and Reconstruction Surgeon': 'Urologist',\n",
       " 'Urologist': 'Urologist',\n",
       " 'Urological Surgeon': 'Urologist',\n",
       " 'Urology': 'Urologist',\n",
       " 'Pediatric Urologist': 'Urologist',\n",
       " 'Gastroenterologist': 'Gastroenterologist',\n",
       " 'Endoscopist (Gastro)': 'Gastroenterologist',\n",
       " 'Gastroenterology-Hepatologist': 'Gastroenterologist',\n",
       " 'GastroIntestinal Surgeon': 'Gastroenterologist',\n",
       " 'Pediatric Gastroenterologist': 'Gastroenterologist',\n",
       " 'Surgical Gastroenterology': 'Gastroenterologist',\n",
       " 'GastroIntestinal Surgery': 'Gastroenterologist',\n",
       " 'Gastroentrology Surgeon': 'Gastroenterologist',\n",
       " 'Neuro Physiotherapist': 'Physiotherapist',\n",
       " 'Clinical Physiotherapist': 'Physiotherapist',\n",
       " 'Physiotherapist': 'Physiotherapist',\n",
       " \"Women's Health Physiotherapist\": 'Physiotherapist',\n",
       " 'Geriatric Physiotherapist': 'Physiotherapist',\n",
       " 'Pediatric Physiotherapist': 'Physiotherapist',\n",
       " 'Rheumatology Physiotherapist': 'Physiotherapist',\n",
       " 'Radiation Oncologist': 'Oncologist',\n",
       " 'Surgical Oncologist': 'Oncologist',\n",
       " 'Medical Oncologist': 'Oncologist',\n",
       " 'Hematologic Oncologist': 'Oncologist',\n",
       " 'Oncologist': 'Oncologist',\n",
       " 'Head and Neck Oncologist': 'Oncologist',\n",
       " 'Medical Hematology - Oncologist': 'Oncologist',\n",
       " 'Oncologist/Cancer Specialist': 'Oncologist',\n",
       " 'Oncology Head and Neck Surgery': 'Oncologist',\n",
       " 'Oncology': 'Oncologist',\n",
       " 'Neuro-oncologist': 'Oncologist',\n",
       " 'ENT/ Otorhinolaryngologist': 'ENT/ Otorhinolaryngologist',\n",
       " 'Ear-Nose-Throat (ENT) Specialist': 'ENT/ Otorhinolaryngologist',\n",
       " 'ENT, Head and Neck Surgeon': 'ENT/ Otorhinolaryngologist',\n",
       " 'ENT': 'ENT/ Otorhinolaryngologist',\n",
       " 'Community ENT Specialist': 'ENT/ Otorhinolaryngologist',\n",
       " 'ENT/ Otolaryngologist': 'ENT/ Otorhinolaryngologist',\n",
       " ' Community ENT Specialist': 'ENT/ Otorhinolaryngologist',\n",
       " 'Aesthetic Medicine': 'Cosmetologist/Plastic Surgeon',\n",
       " 'Cosmetologist': 'Cosmetologist/Plastic Surgeon',\n",
       " 'Plastic, Reconstructive, Aesthetic Surgeon': 'Cosmetologist/Plastic Surgeon',\n",
       " 'Plastic Surgeon': 'Cosmetologist/Plastic Surgeon',\n",
       " 'Cosmetic Surgeon': 'Cosmetologist/Plastic Surgeon',\n",
       " 'Plastic Reconstruction Surgeon': 'Cosmetologist/Plastic Surgeon',\n",
       " 'Cosmetic/Plastic Surgeon': 'Cosmetologist/Plastic Surgeon',\n",
       " 'Plastic and Cosmetic surgery': 'Cosmetologist/Plastic Surgeon',\n",
       " 'Rheumatologist': 'Orthopedist',\n",
       " 'Pediatric Rheumatologist': 'Orthopedist',\n",
       " 'Infertility Specialist': 'Infertility Specialist',\n",
       " 'Reproductive Endocrinologist (Infertilty)': 'Infertility Specialist',\n",
       " 'Reproductive Endocrinologist (Infertility)': 'Infertility Specialist',\n",
       " 'Endocrinologist': 'Endocrinologist',\n",
       " 'General Endocrinologist': 'Endocrinologist',\n",
       " 'Endocrine Surgeon': 'Endocrinologist',\n",
       " 'Neuroendocrinologist': 'Endocrinologist',\n",
       " 'Endocrinology': 'Endocrinologist',\n",
       " 'Neurosurgeon': 'Neurologist',\n",
       " 'Neurologist': 'Neurologist',\n",
       " 'Geriatric Neurologist': 'Neurologist',\n",
       " 'Pediatric Neurologist': 'Neurologist',\n",
       " 'Neurospine Surgeon': 'Neurologist',\n",
       " 'Neurointerventional Surgery': 'Neurologist',\n",
       " 'Neurology': 'Neurologist',\n",
       " 'Neurofunctional Surgeon': 'Neurologist',\n",
       " 'Neuropediatric Surgeon': 'Neurologist',\n",
       " 'Neurofunctional Speech Therapist': 'Neurologist',\n",
       " 'paediatric nephrology': 'Nephrologist',\n",
       " 'Nephrologist/Renal Specialist': 'Nephrologist',\n",
       " 'Nephrologist': 'Nephrologist',\n",
       " 'Kidney - Hypertension Specialist': 'Nephrologist',\n",
       " 'Kidney and Transplantation Specialist': 'Nephrologist',\n",
       " 'Speech Therapist': 'Speech Therapist',\n",
       " 'Anesthesiologist': 'Anesthesiologist',\n",
       " 'Pain Management Anesthesiologist': 'Anesthesiologist',\n",
       " 'Otologist/ Neurotologist': 'Otologist/ Neurotologist',\n",
       " 'Neurotologist': 'Otologist/ Neurotologist'}"
      ]
     },
     "execution_count": 8,
     "metadata": {},
     "output_type": "execute_result"
    }
   ],
   "source": [
    "specialities_map"
   ]
  },
  {
   "cell_type": "markdown",
   "metadata": {},
   "source": [
    "## Clean Answers\n",
    "\n",
    "* Remove Doctor names\n",
    "* Remove advertisements\n",
    "* Remove Locations\n",
    "* Take answers with only more than 10 words"
   ]
  },
  {
   "cell_type": "code",
   "execution_count": 9,
   "metadata": {
    "ExecuteTime": {
     "end_time": "2020-08-27T15:33:38.292321Z",
     "start_time": "2020-08-27T15:33:38.276321Z"
    }
   },
   "outputs": [],
   "source": [
    "# words_to_not_include = {'i','me','consult'}\n",
    "# def is_not_include(x):\n",
    "#     tok = [w.lower() for w in re.split(r'\\s+',x)]\n",
    "#     is_present = any([w in words_to_not_include for w in tok])\n",
    "#     return is_present\n",
    "# #complete_data['not_include'] = complete_data['answer'].apply(lambda x: is_not_include(x)  )\n",
    "\n",
    "def remove_text_after(x):\n",
    "    end = len(x)-1\n",
    "    obj_search = re.search(r'\\b((regard(s)?)|(thank(s)?)|(bye)|(share)|(online)|(upload)|(download)|(send)|(personally)|(practo)|(chat)|(i (a)?m)|(me)|(my)|(details)|(information)|(photos)|(dude)|(in person)|(consult private(ly)?)|(wishes)|(dr)|(direct(ly)? consult)|(mumbai)|(pune)|(allahabad)|(hyderabad)|(bangalore)|(bombay)|(consult direct(ly)?))\\b',x.lower())\n",
    "    if obj_search:\n",
    "        end = obj_search.span()[0]\n",
    "        while end > 0:\n",
    "            if x[end] not in  ['.','\\n']:\n",
    "                end = end- 1\n",
    "            else: \n",
    "                break\n",
    "        x =  x[0:end]\n",
    "\n",
    "    return x\n",
    "\n",
    "def remove_urls(x):\n",
    "    x = re.sub(r'(https|http)?:\\/\\/(\\w|\\.|\\/|\\?|\\=|\\&|\\%|\\#|\\!|\\-)*\\b', '', x, flags=re.MULTILINE)\n",
    "    return x\n",
    "\n",
    "def add_full_stop(x):\n",
    "    # add missing full stop\n",
    "    if len(x)>0:\n",
    "        if x[-1] !='.':\n",
    "            x = x + '.' \n",
    "    return x\n",
    "\n",
    "def fix_all_caps(x):\n",
    "    cap_count = 0\n",
    "    x_s= re.sub(r'\\s+','',x)\n",
    "    if len(x_s)>0:\n",
    "        for i in x_s: \n",
    "            if i.isupper():\n",
    "                cap_count = cap_count + 1\n",
    "        if cap_count/len(x_s) >= 0.9:\n",
    "            x = x.lower()\n",
    "    return x\n",
    "    \n",
    "def clean_answer(x):\n",
    "    x = remove_text_after(x)\n",
    "    x = remove_urls(x)\n",
    "    x = add_full_stop(x)\n",
    "    x = fix_all_caps(x)\n",
    "    x = unicodedata.normalize(\"NFKD\",x)\n",
    "    x = re.sub(r'\\s+',' ',x) \n",
    "    return x\n",
    "\n",
    "def is_valid_answer(x):\n",
    "    conds=[] \n",
    "    ## enough words\n",
    "    conds.append(x['cleaned_answer_words'] >=10)\n",
    "    ## not too many words\n",
    "    conds.append(x['cleaned_answer_words'] <150)\n",
    "    ## not a question\n",
    "    if len(x) > 5:\n",
    "        conds.append('?' not in x['cleaned_answer'][-5:])\n",
    "    return all(conds)\n",
    "    \n",
    "    "
   ]
  },
  {
   "cell_type": "code",
   "execution_count": 10,
   "metadata": {
    "ExecuteTime": {
     "end_time": "2020-08-27T15:34:50.261487Z",
     "start_time": "2020-08-27T15:33:38.296290Z"
    }
   },
   "outputs": [
    {
     "name": "stderr",
     "output_type": "stream",
     "text": [
      "100%|████████████████████████████████████████████████████████████████████████| 700319/700319 [01:11<00:00, 9734.74it/s]\n"
     ]
    }
   ],
   "source": [
    "complete_data['cleaned_answer'] = complete_data['answer'].progress_apply(lambda x: clean_answer(x))"
   ]
  },
  {
   "cell_type": "code",
   "execution_count": 11,
   "metadata": {
    "ExecuteTime": {
     "end_time": "2020-08-27T15:34:57.334488Z",
     "start_time": "2020-08-27T15:34:50.264485Z"
    }
   },
   "outputs": [
    {
     "name": "stderr",
     "output_type": "stream",
     "text": [
      "100%|███████████████████████████████████████████████████████████████████████| 700319/700319 [00:07<00:00, 99223.41it/s]\n"
     ]
    }
   ],
   "source": [
    "complete_data['cleaned_answer_words'] = complete_data['cleaned_answer'].progress_apply(lambda x: len(re.split('\\s+',x)))"
   ]
  },
  {
   "cell_type": "code",
   "execution_count": 12,
   "metadata": {
    "ExecuteTime": {
     "end_time": "2020-08-27T15:35:15.257537Z",
     "start_time": "2020-08-27T15:34:57.336490Z"
    }
   },
   "outputs": [
    {
     "name": "stderr",
     "output_type": "stream",
     "text": [
      "100%|███████████████████████████████████████████████████████████████████████| 700319/700319 [00:17<00:00, 39095.47it/s]\n"
     ]
    }
   ],
   "source": [
    "complete_data['is_valid_answer'] = complete_data.progress_apply(lambda x: is_valid_answer(x),axis=1)"
   ]
  },
  {
   "cell_type": "code",
   "execution_count": 13,
   "metadata": {
    "ExecuteTime": {
     "end_time": "2020-08-27T15:35:15.741530Z",
     "start_time": "2020-08-27T15:35:15.260536Z"
    }
   },
   "outputs": [
    {
     "data": {
      "text/plain": [
       "<matplotlib.axes._subplots.AxesSubplot at 0x26516e26860>"
      ]
     },
     "execution_count": 13,
     "metadata": {},
     "output_type": "execute_result"
    },
    {
     "data": {
      "image/png": "[encoded data removed]",
      "text/plain": [
       "<Figure size 432x288 with 1 Axes>"
      ]
     },
     "metadata": {
      "needs_background": "light"
     },
     "output_type": "display_data"
    }
   ],
   "source": [
    "complete_data[complete_data['is_valid_answer']]['cleaned_answer_words'].hist(bins = 100)"
   ]
  },
  {
   "cell_type": "markdown",
   "metadata": {},
   "source": [
    "## Clean questions"
   ]
  },
  {
   "cell_type": "code",
   "execution_count": 14,
   "metadata": {
    "ExecuteTime": {
     "end_time": "2020-08-27T15:35:15.745529Z",
     "start_time": "2020-08-27T15:35:15.742530Z"
    }
   },
   "outputs": [],
   "source": [
    "def is_valid_question(x):\n",
    "    conds=[] \n",
    "    ## enough words\n",
    "    conds.append(x['question_words'] >= 5)\n",
    "    ## not too many words\n",
    "    conds.append(x['question_words'] < 100)\n",
    "    return all(conds)\n"
   ]
  },
  {
   "cell_type": "code",
   "execution_count": 15,
   "metadata": {
    "ExecuteTime": {
     "end_time": "2020-08-27T15:35:25.022931Z",
     "start_time": "2020-08-27T15:35:15.746529Z"
    }
   },
   "outputs": [
    {
     "name": "stderr",
     "output_type": "stream",
     "text": [
      "100%|███████████████████████████████████████████████████████████████████████| 700319/700319 [00:09<00:00, 75642.10it/s]\n"
     ]
    }
   ],
   "source": [
    "complete_data['question_words'] = complete_data['question'].progress_apply(lambda x: len(re.split('\\s+',x)))"
   ]
  },
  {
   "cell_type": "code",
   "execution_count": 16,
   "metadata": {
    "ExecuteTime": {
     "end_time": "2020-08-27T15:35:37.815684Z",
     "start_time": "2020-08-27T15:35:25.023882Z"
    }
   },
   "outputs": [
    {
     "name": "stderr",
     "output_type": "stream",
     "text": [
      "100%|███████████████████████████████████████████████████████████████████████| 700319/700319 [00:12<00:00, 54781.95it/s]\n"
     ]
    }
   ],
   "source": [
    "complete_data['is_valid_question'] = complete_data.progress_apply(lambda x: is_valid_question(x),axis=1)"
   ]
  },
  {
   "cell_type": "code",
   "execution_count": 17,
   "metadata": {
    "ExecuteTime": {
     "end_time": "2020-08-27T15:35:38.339646Z",
     "start_time": "2020-08-27T15:35:37.817683Z"
    }
   },
   "outputs": [
    {
     "data": {
      "text/plain": [
       "<matplotlib.axes._subplots.AxesSubplot at 0x2650a5e4b00>"
      ]
     },
     "execution_count": 17,
     "metadata": {},
     "output_type": "execute_result"
    },
    {
     "data": {
      "image/png": "[encoded data removed]",
      "text/plain": [
       "<Figure size 432x288 with 1 Axes>"
      ]
     },
     "metadata": {
      "needs_background": "light"
     },
     "output_type": "display_data"
    }
   ],
   "source": [
    "complete_data[complete_data['is_valid_question']]['question_words'].hist(bins=100 )"
   ]
  },
  {
   "cell_type": "code",
   "execution_count": 18,
   "metadata": {
    "ExecuteTime": {
     "end_time": "2020-08-27T15:35:38.357650Z",
     "start_time": "2020-08-27T15:35:38.340646Z"
    }
   },
   "outputs": [
    {
     "data": {
      "text/plain": [
       "True     671490\n",
       "False     28829\n",
       "Name: is_valid_question, dtype: int64"
      ]
     },
     "execution_count": 18,
     "metadata": {},
     "output_type": "execute_result"
    }
   ],
   "source": [
    "complete_data['is_valid_question'].value_counts()"
   ]
  },
  {
   "cell_type": "code",
   "execution_count": 19,
   "metadata": {
    "ExecuteTime": {
     "end_time": "2020-08-27T15:35:38.528644Z",
     "start_time": "2020-08-27T15:35:38.359680Z"
    }
   },
   "outputs": [
    {
     "data": {
      "text/plain": [
       "(450428, 15)"
      ]
     },
     "execution_count": 19,
     "metadata": {},
     "output_type": "execute_result"
    }
   ],
   "source": [
    "complete_data[(complete_data['is_valid_question']) & (complete_data['is_valid_answer'])].shape"
   ]
  },
  {
   "cell_type": "markdown",
   "metadata": {},
   "source": [
    "## Clean Symptom Summary"
   ]
  },
  {
   "cell_type": "code",
   "execution_count": 20,
   "metadata": {
    "ExecuteTime": {
     "end_time": "2020-08-27T15:35:38.536680Z",
     "start_time": "2020-08-27T15:35:38.530652Z"
    }
   },
   "outputs": [],
   "source": [
    "def clean_symptom_summary(x):\n",
    "    x = re.sub(r'\\b((i)|(have)|(having)|(hv)|(am)|(my)|(had)|(how)|(who)|(whom))\\b','',x,flags=re.IGNORECASE)\n",
    "    return x\n",
    "\n",
    "def is_valid_summary(x):\n",
    "    conds=[] \n",
    "    ## not too many words\n",
    "    conds.append(x['cleaned_symptom_summary_words'] <10)\n",
    "    ## not a question\n",
    "    if len(x) > 5:\n",
    "        conds.append('?' not in x['cleaned_symptom_summary'][-5:])\n",
    "    return all(conds)\n",
    "\n",
    "\n",
    "# x = complete_data.sample(1).iloc[0]\n",
    "\n",
    "# print(x['symptom_summary'])\n",
    "# print(x['cleaned_symptom_summary'])\n",
    "# print(x['question'])"
   ]
  },
  {
   "cell_type": "code",
   "execution_count": 21,
   "metadata": {
    "ExecuteTime": {
     "end_time": "2020-08-27T15:35:41.650670Z",
     "start_time": "2020-08-27T15:35:38.538685Z"
    }
   },
   "outputs": [
    {
     "name": "stderr",
     "output_type": "stream",
     "text": [
      "100%|██████████████████████████████████████████████████████████████████████| 700319/700319 [00:03<00:00, 227376.43it/s]\n"
     ]
    }
   ],
   "source": [
    "complete_data['cleaned_symptom_summary'] = complete_data['symptom_summary'].progress_apply(lambda x: clean_symptom_summary(x))"
   ]
  },
  {
   "cell_type": "code",
   "execution_count": 22,
   "metadata": {
    "ExecuteTime": {
     "end_time": "2020-08-27T15:35:43.846923Z",
     "start_time": "2020-08-27T15:35:41.652685Z"
    }
   },
   "outputs": [
    {
     "name": "stderr",
     "output_type": "stream",
     "text": [
      "100%|██████████████████████████████████████████████████████████████████████| 700319/700319 [00:02<00:00, 320618.77it/s]\n"
     ]
    }
   ],
   "source": [
    "complete_data['cleaned_symptom_summary_words'] = complete_data['cleaned_symptom_summary'].progress_apply(lambda x: len(re.split('\\s+',x)))"
   ]
  },
  {
   "cell_type": "code",
   "execution_count": 23,
   "metadata": {
    "ExecuteTime": {
     "end_time": "2020-08-27T15:35:58.195377Z",
     "start_time": "2020-08-27T15:35:43.848955Z"
    }
   },
   "outputs": [
    {
     "name": "stderr",
     "output_type": "stream",
     "text": [
      "100%|███████████████████████████████████████████████████████████████████████| 700319/700319 [00:14<00:00, 48838.61it/s]\n"
     ]
    }
   ],
   "source": [
    "complete_data['is_valid_symptom_summary'] = complete_data.progress_apply(lambda x: is_valid_summary(x),axis=1)"
   ]
  },
  {
   "cell_type": "code",
   "execution_count": 24,
   "metadata": {
    "ExecuteTime": {
     "end_time": "2020-08-27T15:35:58.217423Z",
     "start_time": "2020-08-27T15:35:58.197413Z"
    }
   },
   "outputs": [
    {
     "data": {
      "text/plain": [
       "True     689709\n",
       "False     10610\n",
       "Name: is_valid_symptom_summary, dtype: int64"
      ]
     },
     "execution_count": 24,
     "metadata": {},
     "output_type": "execute_result"
    }
   ],
   "source": [
    "complete_data['is_valid_symptom_summary'].value_counts()"
   ]
  },
  {
   "cell_type": "code",
   "execution_count": 25,
   "metadata": {
    "ExecuteTime": {
     "end_time": "2020-08-27T15:35:58.417376Z",
     "start_time": "2020-08-27T15:35:58.221380Z"
    }
   },
   "outputs": [
    {
     "data": {
      "text/plain": [
       "(444313, 18)"
      ]
     },
     "execution_count": 25,
     "metadata": {},
     "output_type": "execute_result"
    }
   ],
   "source": [
    "complete_data[(complete_data['is_valid_question']) & (complete_data['is_valid_answer']) & (complete_data['is_valid_symptom_summary'])].shape"
   ]
  },
  {
   "cell_type": "markdown",
   "metadata": {},
   "source": [
    "## Analyse the Categories\n"
   ]
  },
  {
   "cell_type": "code",
   "execution_count": 26,
   "metadata": {
    "ExecuteTime": {
     "end_time": "2020-08-27T15:35:58.499376Z",
     "start_time": "2020-08-27T15:35:58.420380Z"
    }
   },
   "outputs": [],
   "source": [
    "categories = list(complete_data['category'][complete_data['is_valid_answer']].unique())"
   ]
  },
  {
   "cell_type": "code",
   "execution_count": 27,
   "metadata": {
    "ExecuteTime": {
     "end_time": "2020-08-27T15:35:58.505380Z",
     "start_time": "2020-08-27T15:35:58.500374Z"
    }
   },
   "outputs": [
    {
     "data": {
      "text/plain": [
       "['bone-muscle-problems',\n",
       " 'brain-and-spine-problems',\n",
       " 'cancer-care-and-treatment',\n",
       " 'chest-breathing-problems',\n",
       " 'child-health-issues',\n",
       " 'diet-advice-and-tips',\n",
       " 'ear-nose-throat-problems',\n",
       " 'eye-care-problems',\n",
       " 'flu',\n",
       " 'heart-problems-remedies',\n",
       " 'hormonal-imbalances',\n",
       " 'kidney-problems',\n",
       " 'mental-health',\n",
       " 'pregnancy-and-infertility',\n",
       " 'psychological-counselling',\n",
       " 'sexual-health',\n",
       " 'skin-hair-and-nail-problems',\n",
       " 'stomach-problems-remedies',\n",
       " 'tooth-and-mouth-problems']"
      ]
     },
     "execution_count": 27,
     "metadata": {},
     "output_type": "execute_result"
    }
   ],
   "source": [
    "categories"
   ]
  },
  {
   "cell_type": "code",
   "execution_count": 28,
   "metadata": {
    "ExecuteTime": {
     "end_time": "2020-08-27T15:35:59.728375Z",
     "start_time": "2020-08-27T15:35:58.507377Z"
    }
   },
   "outputs": [
    {
     "name": "stdout",
     "output_type": "stream",
     "text": [
      "***bone-muscle-problems*****\n",
      "Orthopedist                                 39560\n",
      "Physiotherapist                             12892\n",
      "General Physician                           11941\n",
      "Spine Surgeon                                1752\n",
      "Hand Surgeon                                  445\n",
      "Spine and Pain Specialist                     419\n",
      "Occupational Therapist                        390\n",
      "Spine And Pain Specialist                     241\n",
      "Neurologist                                   211\n",
      "Pain Management Specialist                    146\n",
      "Consultant Physician                          146\n",
      "Family and Community Medicine Specialist      113\n",
      "Cardiologist                                   99\n",
      "General Practitioner                           89\n",
      "Rehab & Physical Medicine Specialist           45\n",
      "Geriatric OT                                   33\n",
      "Acupuncturist                                  24\n",
      "Medical Microbiologist                         23\n",
      "Chiropractor                                   19\n",
      "Diabetologist                                  12\n",
      "Trauma Surgeon                                 10\n",
      "ENT/ Otorhinolaryngologist                     10\n",
      "Endocrinologist                                 9\n",
      "Family Physician                                9\n",
      "Laparoscopic Surgeon                            8\n",
      "Pediatric OT                                    7\n",
      "Ache Specialist                                 6\n",
      "Infectious Diseases Physician                   4\n",
      "Gynecologist/Obstetrician                       4\n",
      "Pediatrician                                    4\n",
      "Dietitian/Nutritionist                          4\n",
      "Knee Surgeon                                    3\n",
      "Anesthesiologist                                3\n",
      "HIV Specialist                                  3\n",
      "Dermatologist                                   2\n",
      "Sexologist                                      2\n",
      "General Surgeon                                 2\n",
      "Pulmonologist                                   2\n",
      "Ophthalmologist/ Eye Surgeon                    2\n",
      "Head and Neck Surgeon                           2\n",
      "Gastroenterologist                              1\n",
      "Preventive Medicine                             1\n",
      "Psychiatrist                                    1\n",
      "Otologist/ Neurotologist                        1\n",
      "Proctologist                                    1\n",
      "Name: cleaned_specialities, dtype: int64\n",
      "***brain-and-spine-problems*****\n",
      "Neurologist                                 8129\n",
      "General Physician                           5121\n",
      "Orthopedist                                  178\n",
      "Consultant Physician                         166\n",
      "Family and Community Medicine Specialist      92\n",
      "General Practitioner                          90\n",
      "Physiotherapist                               85\n",
      "Pain Management Specialist                    54\n",
      "Family Physician                              27\n",
      "Spine Surgeon                                 27\n",
      "Diabetologist                                 25\n",
      "Gynecologist/Obstetrician                     16\n",
      "Laparoscopic Surgeon                          14\n",
      "Spine and Pain Specialist                      8\n",
      "Acupuncturist                                  7\n",
      "Gastroenterologist                             7\n",
      "General Surgeon                                7\n",
      "ENT/ Otorhinolaryngologist                     6\n",
      "Pediatrician                                   6\n",
      "Headache and Vertigo Specialist                4\n",
      "Infectious Diseases Physician                  4\n",
      "Spine And Pain Specialist                      4\n",
      "Dermatologist                                  3\n",
      "Ophthalmologist/ Eye Surgeon                   3\n",
      "Dentist                                        3\n",
      "Medical Microbiologist                         3\n",
      "Preventive Medicine                            3\n",
      "Stroke Specialist                              3\n",
      "Laparoscopy                                    2\n",
      "Andrologist                                    2\n",
      "Emergency Medicine                             2\n",
      "Psychologist                                   2\n",
      "Pulmonologist                                  2\n",
      "Psychiatrist                                   2\n",
      "Dietitian/Nutritionist                         1\n",
      "Siddha                                         1\n",
      "Cardiologist                                   1\n",
      "Proctologist                                   1\n",
      "Name: cleaned_specialities, dtype: int64\n",
      "***cancer-care-and-treatment*****\n",
      "Oncologist                                  6271\n",
      "General Physician                            238\n",
      "Gynecologist/Obstetrician                     34\n",
      "Thoracic Surgeon                              15\n",
      "Family and Community Medicine Specialist      14\n",
      "Hematologist                                  13\n",
      "General Surgeon                               11\n",
      "Thoracic (Chest) Surgeon                       8\n",
      "Clinical Hematologist                          5\n",
      "Laparoscopic Surgeon                           2\n",
      "Pulmonologist                                  1\n",
      "ENT/ Otorhinolaryngologist                     1\n",
      "Name: cleaned_specialities, dtype: int64\n",
      "***chest-breathing-problems*****\n",
      "Pulmonologist                                10972\n",
      "General Physician                             1455\n",
      "Allergist/Immunologist                          86\n",
      "Consultant Physician                            63\n",
      "Respiratory Medicine                            52\n",
      "General Practitioner                            47\n",
      "Thoracic (Chest) Surgeon                        41\n",
      "Respiratory Therapy Specialist                  33\n",
      "Tuberculous and chest Diseases Specialist       27\n",
      "Family and Community Medicine Specialist        17\n",
      "Pain Management Specialist                      14\n",
      "Medical Microbiologist                          12\n",
      "Neurologist                                     10\n",
      "Laparoscopic Surgeon                            10\n",
      "Family Physician                                 8\n",
      "Pediatrician                                     7\n",
      "Critical Care Medicine                           6\n",
      "Infectious Diseases Physician                    4\n",
      "ENT/ Otorhinolaryngologist                       4\n",
      "Diabetologist                                    3\n",
      "Andrologist                                      2\n",
      "Cardiologist                                     2\n",
      "Somnologist (Sleep Specialist)                   2\n",
      "General Surgeon                                  2\n",
      "Endocrinologist                                  2\n",
      "Orthopedist                                      2\n",
      "General Medicine                                 1\n",
      "Psychiatrist                                     1\n",
      "Hematologist                                     1\n",
      "Otologist/ Neurotologist                         1\n",
      "Gastroenterologist                               1\n",
      "Physiotherapist                                  1\n",
      "Preventive Medicine                              1\n",
      "Pediatric Immunologist and Allergist             1\n",
      "Name: cleaned_specialities, dtype: int64\n",
      "***child-health-issues*****\n",
      "Pediatrician                                       30613\n",
      "General Physician                                   1634\n",
      "Pediatric Surgeon                                    694\n",
      "Neonatologist                                        605\n",
      "Laparoscopic Surgeon                                 253\n",
      "Paediatric Neonatology                               182\n",
      "Paediatrics                                          175\n",
      "Audiologist                                          129\n",
      "Paediatric Intensivist                                91\n",
      "Growth and Development - Community Pediatrician       87\n",
      "Speech Therapist                                      79\n",
      "Family and Community Medicine Specialist              60\n",
      "Pediatric Immunologist and Allergist                  57\n",
      "Psychiatrist                                          20\n",
      "Pulmonologist                                         17\n",
      "Neurologist                                           11\n",
      "Nephrologist                                           8\n",
      "Pediatric Emergency Medicine Specialist                8\n",
      "Dermatologist                                          7\n",
      "Dietitian/Nutritionist                                 5\n",
      "Neonatalogist                                          5\n",
      "General Surgeon                                        4\n",
      "Consultant Physician                                   4\n",
      "General Practitioner                                   4\n",
      "Allergist/Immunologist                                 4\n",
      "Medical Microbiologist                                 3\n",
      "Urologist                                              2\n",
      "Acupuncturist                                          2\n",
      "Cardiologist                                           2\n",
      "Orthopedist                                            2\n",
      "Gynecologist/Obstetrician                              2\n",
      "Neonatal Surgeon                                       1\n",
      "Ophthalmologist/ Eye Surgeon                           1\n",
      "Pain Management Specialist                             1\n",
      "Family Physician                                       1\n",
      "Physiotherapist                                        1\n",
      "Name: cleaned_specialities, dtype: int64\n",
      "***diet-advice-and-tips*****\n",
      "Dietitian/Nutritionist                      60895\n",
      "General Physician                            3271\n",
      "Obesity Specialist                            807\n",
      "Orthopedist                                   306\n",
      "Bariatric Surgeon                              89\n",
      "Physiotherapist                                32\n",
      "Family and Community Medicine Specialist       31\n",
      "General Surgeon                                31\n",
      "Laparoscopic Surgeon                           14\n",
      "Consultant Physician                           11\n",
      "Gynecologist/Obstetrician                      11\n",
      "Dermatologist                                   7\n",
      "Diabetologist                                   4\n",
      "Acupuncturist                                   4\n",
      "Medical Microbiologist                          3\n",
      "Endocrinologist                                 3\n",
      "General Practitioner                            2\n",
      "Family Physician                                2\n",
      "Integrative Health Coach                        2\n",
      "Pediatrician                                    2\n",
      "Proctologist                                    2\n",
      "Pediatric Surgeon                               1\n",
      "Pain Management Specialist                      1\n",
      "Laparoscopy                                     1\n",
      "Hematologist                                    1\n",
      "Gastroenterologist                              1\n",
      "Sexologist                                      1\n",
      "Psychiatrist                                    1\n",
      "Psychologist                                    1\n",
      "Name: cleaned_specialities, dtype: int64\n",
      "***ear-nose-throat-problems*****\n"
     ]
    },
    {
     "name": "stdout",
     "output_type": "stream",
     "text": [
      "ENT/ Otorhinolaryngologist                  24681\n",
      "General Physician                            4139\n",
      "Otologist/ Neurotologist                     1275\n",
      "Allergist/Immunologist                       1244\n",
      "Speech Therapist                              569\n",
      "Rhinologist                                   270\n",
      "Head and Neck Surgeon                         264\n",
      "Audiologist                                   234\n",
      "Family and Community Medicine Specialist       91\n",
      "Pediatric Otorhinolaryngologist                86\n",
      "Consultant Physician                           11\n",
      "Oncologist                                     10\n",
      "General Practitioner                            7\n",
      "Dentist                                         6\n",
      "Medical Microbiologist                          5\n",
      "Diabetologist                                   4\n",
      "Pulmonologist                                   3\n",
      "Otolaryngic Allergist and Immunologist          3\n",
      "Cosmetologist/Plastic Surgeon                   3\n",
      "Family Physician                                3\n",
      "Dermatologist                                   2\n",
      "Psychologist                                    2\n",
      "Cardiologist                                    1\n",
      "Endocrinologist                                 1\n",
      "Oral And MaxilloFacial Surgeon                  1\n",
      "Orthopedist                                     1\n",
      "Gastroenterologist                              1\n",
      "General Surgeon                                 1\n",
      "Sleeping Disorders Specialist                   1\n",
      "General Medicine                                1\n",
      "Venereologist                                   1\n",
      "Name: cleaned_specialities, dtype: int64\n",
      "***eye-care-problems*****\n",
      "Ophthalmologist/ Eye Surgeon                29217\n",
      "General Physician                            1151\n",
      "Vitreoretina Specialist                       151\n",
      "Family and Community Medicine Specialist       51\n",
      "Cataract and Refractive Surgeon                42\n",
      "Consultant Physician                            3\n",
      "Acupuncturist                                   2\n",
      "General Surgeon                                 2\n",
      "Pediatrician                                    2\n",
      "Psychologist                                    2\n",
      "ENT/ Otorhinolaryngologist                      1\n",
      "Otologist/ Neurotologist                        1\n",
      "Dermatologist                                   1\n",
      "Proctologist                                    1\n",
      "Endocrinologist                                 1\n",
      "Siddha                                          1\n",
      "General Practitioner                            1\n",
      "Name: cleaned_specialities, dtype: int64\n",
      "***flu*****\n",
      "General Physician                             35030\n",
      "General Practitioner                           7182\n",
      "Consultant Physician                           2982\n",
      "Diabetologist                                  1600\n",
      "Family Physician                               1471\n",
      "Family and Community Medicine Specialist       1244\n",
      "Geriatrician                                   1171\n",
      "General Surgeon                                 939\n",
      "Orthopedist                                     869\n",
      "Anesthesiologist                                701\n",
      "General Medicine                                519\n",
      "Preventive Medicine                             518\n",
      "Pulmonologist                                   442\n",
      "General Surgery & Gasteroenterology             433\n",
      "Infectious Diseases Physician                   332\n",
      "Gynecologist/Obstetrician                       236\n",
      "Pain Management Specialist                      200\n",
      "ENT/ Otorhinolaryngologist                       98\n",
      "Sexologist                                       98\n",
      "Neurologist                                      89\n",
      "Critical Care Medicine                           88\n",
      "Laparoscopic Surgeon                             73\n",
      "Cardiologist                                     61\n",
      "Clinical Microbiologist                          54\n",
      "Otologist/ Neurotologist                         45\n",
      "Pediatrician                                     44\n",
      "Cosmetologist/Plastic Surgeon                    40\n",
      "Psychiatrist                                     36\n",
      "Emergency Medicine                               36\n",
      "Gastroenterologist                               28\n",
      "Oncologist                                       26\n",
      "Medical Microbiologist                           25\n",
      "Tuberculous and chest Diseases Specialist        24\n",
      "Endocrinologist                                  24\n",
      "Dermatologist                                    21\n",
      "Pathologist                                      13\n",
      "Laparoscopic Surgeon (Obs & Gyn)                 10\n",
      "Clinical Toxicologist                             9\n",
      "Hematologist                                      9\n",
      "Spine And Pain Specialist                         9\n",
      "Dietitian/Nutritionist                            9\n",
      "Ophthalmologist/ Eye Surgeon                      7\n",
      "Psychologist                                      7\n",
      "Nephrologist                                      4\n",
      "HIV Specialist                                    4\n",
      "Spine Surgeon                                     4\n",
      "Radiologist                                       3\n",
      "Spine and Pain Specialist                         3\n",
      "Emergency & Critical Care                         3\n",
      "Hospice and Palliative Medicine Specialist        2\n",
      "Nuclear Medicine Physician                        2\n",
      "Dentist                                           2\n",
      "Paediatrics                                       2\n",
      "Andrologist                                       2\n",
      "Physiotherapist                                   1\n",
      "Veterinary Physician                              1\n",
      "Clinical Medicine Specialist                      1\n",
      "Thoracic (Chest) Surgeon                          1\n",
      "Acupuncturist                                     1\n",
      "Bariatric Surgeon                                 1\n",
      "Name: cleaned_specialities, dtype: int64\n",
      "***heart-problems-remedies*****\n",
      "Cardiologist                                13013\n",
      "General Physician                            2491\n",
      "Hematologist                                  208\n",
      "Family and Community Medicine Specialist       75\n",
      "Vascular Surgeon                               44\n",
      "Consultant Physician                           29\n",
      "Endocrinologist                                 4\n",
      "General Surgeon                                 3\n",
      "General Practitioner                            3\n",
      "Diabetologist                                   2\n",
      "Medical Microbiologist                          2\n",
      "Psychiatrist                                    2\n",
      "Laparoscopic Surgeon                            2\n",
      "Radiologist                                     1\n",
      "Oncologist                                      1\n",
      "Sexologist                                      1\n",
      "Physiotherapist                                 1\n",
      "Orthopedist                                     1\n",
      "Pulmonologist                                   1\n",
      "Name: cleaned_specialities, dtype: int64\n",
      "***hormonal-imbalances*****\n",
      "Diabetologist                               6546\n",
      "Endocrinologist                             2149\n",
      "General Physician                           1505\n",
      "General Practitioner                         101\n",
      "Family and Community Medicine Specialist      44\n",
      "Consultant Physician                          28\n",
      "Pediatrician                                  14\n",
      "Family Physician                               6\n",
      "Cardiologist                                   6\n",
      "Proctologist                                   3\n",
      "Dietitian/Nutritionist                         3\n",
      "General Surgeon                                2\n",
      "Pulmonologist                                  1\n",
      "Dermatologist                                  1\n",
      "Ophthalmologist/ Eye Surgeon                   1\n",
      "Physiotherapist                                1\n",
      "Orthopedist                                    1\n",
      "ENT/ Otorhinolaryngologist                     1\n",
      "Nephrologist                                   1\n",
      "Acupuncturist                                  1\n",
      "Medical Microbiologist                         1\n",
      "Laparoscopic Surgeon (Obs & Gyn)               1\n",
      "Infectious Diseases Physician                  1\n",
      "Name: cleaned_specialities, dtype: int64\n",
      "***kidney-problems*****\n",
      "Urologist                                   11840\n",
      "General Physician                            1703\n",
      "Nephrologist                                 1255\n",
      "Andrologist                                   274\n",
      "Dietitian/Nutritionist                         55\n",
      "General Surgeon                                26\n",
      "General Practitioner                           25\n",
      "Laparoscopic Surgeon                           16\n",
      "Family and Community Medicine Specialist       13\n",
      "Gynecologist/Obstetrician                       3\n",
      "Gastroenterologist                              3\n",
      "Endocrinologist                                 3\n",
      "Dermatologist                                   2\n",
      "Consultant Physician                            2\n",
      "Pediatric Surgeon                               2\n",
      "Hair Transplant Surgeon                         1\n",
      "Physiotherapist                                 1\n",
      "Sexologist                                      1\n",
      "Emergency Medicine                              1\n",
      "General Surgery & Gasteroenterology             1\n",
      "Laparoscopy                                     1\n",
      "Proctologist                                    1\n",
      "Name: cleaned_specialities, dtype: int64\n",
      "***mental-health*****\n",
      "Psychiatrist                                 22579\n",
      "Psychologist                                 21485\n",
      "General Physician                             2408\n",
      "Sexologist                                     343\n",
      "Hypnotherapist                                 180\n",
      "Family and Community Medicine Specialist        39\n",
      "Child Behavior Therapist                        27\n",
      "Occupational Therapist for Mental health        19\n",
      "Sexual and Reproductive Health Specialist       17\n",
      "Social Worker                                   12\n",
      "Acupuncturist                                   10\n",
      "Acupressure                                     10\n",
      "Consultant Physician                             8\n",
      "General Surgeon                                  7\n",
      "Integrative Health Coach                         4\n",
      "Dietitian/Nutritionist                           4\n",
      "Dentist                                          4\n",
      "Neurologist                                      3\n",
      "Pediatrician                                     3\n",
      "Cardiologist                                     2\n",
      "General Practitioner                             2\n",
      "Medical Microbiologist                           2\n",
      "Physiotherapist                                  2\n",
      "Laparoscopic Surgeon                             2\n",
      "ENT/ Otorhinolaryngologist                       1\n",
      "Pulmonologist                                    1\n",
      "Infectious Diseases Physician                    1\n",
      "Somnologist (Sleep Specialist)                   1\n",
      "Clinical Acupuncturist                           1\n",
      "Laparoscopy                                      1\n",
      "Occupational Therapist                           1\n",
      "Name: cleaned_specialities, dtype: int64\n",
      "***pregnancy-and-infertility*****\n",
      "Gynecologist/Obstetrician                 41900\n",
      "Infertility Specialist                     1874\n",
      "General Physician                          1244\n",
      "Laparoscopic Surgeon (Obs & Gyn)            175\n",
      "Diabetologist                               163\n",
      "Sexologist                                   80\n",
      "Consultant Physician                         68\n",
      "Endocrinologist                              55\n",
      "Urologist                                    53\n",
      "Laparoscopic Surgeon                         44\n",
      "Gynaecological Endoscopist                   13\n",
      "Maternal and Fetal Medicine Specialist       12\n",
      "General Surgeon                               8\n",
      "General Practitioner                          8\n",
      "Reproductive Health Specialist                5\n",
      "Clinical Embryologist                         5\n",
      "Acupuncturist                                 5\n",
      "Proctologist                                  4\n",
      "GYNAECOLOGIST                                 3\n",
      "Infectious Diseases Physician                 2\n",
      "Orthopedist                                   2\n",
      "Andrologist                                   2\n",
      "Obesity Specialist                            1\n",
      "General Medicine                              1\n",
      "Name: cleaned_specialities, dtype: int64\n",
      "***psychological-counselling*****\n"
     ]
    },
    {
     "name": "stdout",
     "output_type": "stream",
     "text": [
      "Psychologist         570\n",
      "Psychiatrist          10\n",
      "Hypnotherapist         5\n",
      "General Physician      3\n",
      "Name: cleaned_specialities, dtype: int64\n",
      "***sexual-health*****\n",
      "Sexologist                                   6385\n",
      "Gynecologist/Obstetrician                    1831\n",
      "General Physician                            1660\n",
      "Infertility Specialist                        553\n",
      "Urologist                                     440\n",
      "Andrologist                                   431\n",
      "Psychiatrist                                  362\n",
      "Dermatologist                                 336\n",
      "ENT/ Otorhinolaryngologist                    160\n",
      "Venereologist                                 122\n",
      "Hair Transplant Surgeon                        99\n",
      "HIV Specialist                                 82\n",
      "Sexual and Reproductive Health Specialist      78\n",
      "Family and Community Medicine Specialist       55\n",
      "Endocrinologist                                26\n",
      "General Surgeon                                21\n",
      "Nephrologist                                   13\n",
      "Laparoscopic Surgeon                           12\n",
      "Consultant Physician                            6\n",
      "Pediatrician                                    3\n",
      "General Practitioner                            3\n",
      "Psychologist                                    2\n",
      "Clinical Embryologist                           2\n",
      "Dietitian/Nutritionist                          2\n",
      "Acupuncturist                                   2\n",
      "Cosmetologist/Plastic Surgeon                   1\n",
      "Physiotherapist                                 1\n",
      "Name: cleaned_specialities, dtype: int64\n",
      "***skin-hair-and-nail-problems*****\n",
      "Dermatologist                                145552\n",
      "Cosmetologist/Plastic Surgeon                  5872\n",
      "General Physician                              3708\n",
      "Hair Transplant Surgeon                         600\n",
      "Sexologist                                      385\n",
      "Family and Community Medicine Specialist        204\n",
      "Venereologist                                    99\n",
      "Dentist                                          82\n",
      "Oral And MaxilloFacial Surgeon                   68\n",
      "Allergist/Immunologist                           38\n",
      "Consultant Physician                             32\n",
      "Implantologist                                   17\n",
      "General Practitioner                             13\n",
      "General Surgeon                                  10\n",
      "Medical Microbiologist                           10\n",
      "Proctologist                                     10\n",
      "Pediatrician                                     10\n",
      "Siddha                                            9\n",
      "ENT/ Otorhinolaryngologist                        9\n",
      "Acupuncturist                                     6\n",
      "Gynecologist/Obstetrician                         5\n",
      "Psychologist                                      4\n",
      "Ophthalmologist/ Eye Surgeon                      4\n",
      "Neurologist                                       4\n",
      "Laparoscopic Surgeon                              3\n",
      "Family Physician                                  3\n",
      "Interventional Radiologist                        2\n",
      "Pain Management Specialist                        2\n",
      "Orthopedist                                       2\n",
      "Oncologist                                        2\n",
      "Infectious Diseases Physician                     2\n",
      "Otologist/ Neurotologist                          1\n",
      "Breast Surgery                                    1\n",
      "Burn Surgeon                                      1\n",
      "Sexual and Reproductive Health Specialist         1\n",
      "Wellness Coach                                    1\n",
      "Diabetologist                                     1\n",
      "Dietitian/Nutritionist                            1\n",
      "Cardiologist                                      1\n",
      "Endocrinologist                                   1\n",
      "General Medicine                                  1\n",
      "Oral Medicine and Radiology                       1\n",
      "Physiotherapist                                   1\n",
      "Name: cleaned_specialities, dtype: int64\n",
      "***stomach-problems-remedies*****\n",
      "Gastroenterologist                          12524\n",
      "General Physician                            9482\n",
      "Laparoscopic Surgeon                         8229\n",
      "Bariatric Surgeon                             969\n",
      "General Surgeon                               746\n",
      "Consultant Physician                          235\n",
      "Intestine Surgeon                             226\n",
      "General Practitioner                          199\n",
      "Family and Community Medicine Specialist      164\n",
      "Hepato-Biliary-Pancreatic                      84\n",
      "Neurologist                                    75\n",
      "Proctologist                                   68\n",
      "Hepatologist                                   68\n",
      "Diabetologist                                  61\n",
      "Digestive System Surgeon                       59\n",
      "Family Physician                               46\n",
      "Colorectal Surgeon                             35\n",
      "Pediatric Surgeon                              28\n",
      "Medical Microbiologist                         21\n",
      "General Surgery & Gasteroenterology            18\n",
      "Infectious Diseases Physician                  14\n",
      "Pain Management Specialist                     14\n",
      "Gynecologist/Obstetrician                       9\n",
      "Oncologist                                      9\n",
      "Pulmonologist                                   8\n",
      "Orthopedist                                     8\n",
      "Preventive Medicine                             7\n",
      "Bladder Stones Specialist                       6\n",
      "ENT/ Otorhinolaryngologist                      5\n",
      "Endocrinologist                                 5\n",
      "Dermatologist                                   5\n",
      "Physiotherapist                                 4\n",
      "Acupuncturist                                   4\n",
      "Urologist                                       4\n",
      "Obesity Specialist                              4\n",
      "Laparoscopy                                     3\n",
      "Geriatrician                                    3\n",
      "Sexologist                                      3\n",
      "Psychologist                                    2\n",
      "Cardiologist                                    2\n",
      "Andrologist                                     2\n",
      "Psychiatrist                                    2\n",
      "Surgeon                                         2\n",
      "Thoracic (Chest) Surgeon                        2\n",
      "Liver Transplant                                1\n",
      "Pediatrician                                    1\n",
      "Dietitian/Nutritionist                          1\n",
      "Siddha                                          1\n",
      "Wellness Coach                                  1\n",
      "Name: cleaned_specialities, dtype: int64\n"
     ]
    }
   ],
   "source": [
    "for i in range(0,18):\n",
    "    print('***'+categories[i]+'*****')\n",
    "    fdf = complete_data[complete_data['category']==categories[i]]\n",
    "    print(fdf['cleaned_specialities'].value_counts())\n",
    "#     print(fdf['cleaned_specialities'].value_counts()[fdf['cleaned_specialities'].value_counts()>100].iloc[0:5])\n",
    "#     specs = list(fdf['cleaned_specialities'].value_counts()[fdf['cleaned_specialities'].value_counts()>100].iloc[0:5].index)"
   ]
  },
  {
   "cell_type": "markdown",
   "metadata": {},
   "source": [
    "### Create the text - to - text model input \n",
    "\n",
    "#### Input Tags :\n",
    "* a_t : age\n",
    "* g_t : gender\n",
    "* q_t : question \n",
    "\n",
    "#### Output Tags :\n",
    "* cat_t : Category \n",
    "* spc_t : Speciality\n",
    "* sym_t : Symptom Summary\n",
    "* ans_t : Doctor's Reply\n",
    "\n",
    "#### Example :\n",
    "* Input Example :  \"a_t 24 g_t F q_t My aunt's 4 or 5 bone of spinal cord has increased. So how it will medicate or any surgery required please help with this\"\n",
    "\n",
    "* Output Example: \"cat_t bone-muscle-problems spc_t Family Physician sym_t Spinal cord bone increase ans_t Need to have a complete history, with your history it doesn't look that serious but can proceed to weakness of lower limbs if not treated properly.\""
   ]
  },
  {
   "cell_type": "code",
   "execution_count": 29,
   "metadata": {
    "ExecuteTime": {
     "end_time": "2020-08-27T15:40:08.570875Z",
     "start_time": "2020-08-27T15:40:08.562871Z"
    }
   },
   "outputs": [],
   "source": [
    "def clean_text(text):\n",
    "    text=text.replace('\\'',' ')\n",
    "    text=text.replace('\\\"',' ')\n",
    "    text = text.replace('\\t', ' ')\n",
    "    text = text.replace('\\r', ' ')\n",
    "    text = text.replace('\\n', ' ')\n",
    "    text=text.replace('  ',' ')\n",
    "    text=text.strip()\n",
    "    return text"
   ]
  },
  {
   "cell_type": "code",
   "execution_count": 30,
   "metadata": {
    "ExecuteTime": {
     "end_time": "2020-08-27T15:40:12.067803Z",
     "start_time": "2020-08-27T15:40:11.858076Z"
    }
   },
   "outputs": [
    {
     "name": "stdout",
     "output_type": "stream",
     "text": [
      "(444313, 18)\n"
     ]
    }
   ],
   "source": [
    "filtered_data = complete_data[((complete_data['is_valid_answer']) & (complete_data['is_valid_question']) & (complete_data['is_valid_symptom_summary']))]\n",
    "print(filtered_data.shape)"
   ]
  },
  {
   "cell_type": "code",
   "execution_count": 31,
   "metadata": {
    "ExecuteTime": {
     "end_time": "2020-08-27T15:40:49.619129Z",
     "start_time": "2020-08-27T15:40:49.605120Z"
    }
   },
   "outputs": [],
   "source": [
    "def create_text_to_text_input(x):\n",
    "    question = 'a_t '+str(x['age'])+' g_t '+x['gender']+' q_t '+x['question'] \n",
    "    question = clean_text(question)\n",
    "    return question\n",
    "\n",
    "def create_text_to_text_output(x):\n",
    "    answer = 'cat_t ' + x['category'] + ' spc_t '+ x['cleaned_specialities'] + ' sym_t ' + x['cleaned_symptom_summary'] + ' ans_t '+ x['cleaned_answer']\n",
    "    answer = clean_text(answer)\n",
    "    return answer"
   ]
  },
  {
   "cell_type": "code",
   "execution_count": 32,
   "metadata": {
    "ExecuteTime": {
     "end_time": "2020-08-27T15:41:33.994253Z",
     "start_time": "2020-08-27T15:41:08.821801Z"
    }
   },
   "outputs": [
    {
     "name": "stderr",
     "output_type": "stream",
     "text": [
      "100%|███████████████████████████████████████████████████████████████████████| 444313/444313 [00:11<00:00, 40014.40it/s]\n",
      "C:\\Users\\sanjeet\\Anaconda3\\lib\\site-packages\\ipykernel_launcher.py:1: SettingWithCopyWarning: \n",
      "A value is trying to be set on a copy of a slice from a DataFrame.\n",
      "Try using .loc[row_indexer,col_indexer] = value instead\n",
      "\n",
      "See the caveats in the documentation: http://pandas.pydata.org/pandas-docs/stable/indexing.html#indexing-view-versus-copy\n",
      "  \"\"\"Entry point for launching an IPython kernel.\n",
      "100%|███████████████████████████████████████████████████████████████████████| 444313/444313 [00:13<00:00, 31908.55it/s]\n",
      "C:\\Users\\sanjeet\\Anaconda3\\lib\\site-packages\\ipykernel_launcher.py:2: SettingWithCopyWarning: \n",
      "A value is trying to be set on a copy of a slice from a DataFrame.\n",
      "Try using .loc[row_indexer,col_indexer] = value instead\n",
      "\n",
      "See the caveats in the documentation: http://pandas.pydata.org/pandas-docs/stable/indexing.html#indexing-view-versus-copy\n",
      "  \n"
     ]
    }
   ],
   "source": [
    "filtered_data['input_text'] = filtered_data.progress_apply((lambda x: create_text_to_text_input(x)),axis=1 )\n",
    "filtered_data['output_text'] = filtered_data.progress_apply((lambda x: create_text_to_text_output(x)),axis=1 )"
   ]
  },
  {
   "cell_type": "code",
   "execution_count": 33,
   "metadata": {
    "ExecuteTime": {
     "end_time": "2020-08-27T15:41:49.912280Z",
     "start_time": "2020-08-27T15:41:48.556716Z"
    }
   },
   "outputs": [],
   "source": [
    "import random\n",
    "random.seed(0)\n",
    "file_name='data_v3.tsv'\n",
    "filtered_data = filtered_data.sample(frac=1)"
   ]
  },
  {
   "cell_type": "code",
   "execution_count": 34,
   "metadata": {
    "ExecuteTime": {
     "end_time": "2020-08-27T15:42:22.215161Z",
     "start_time": "2020-08-27T15:42:22.203195Z"
    }
   },
   "outputs": [
    {
     "data": {
      "text/plain": [
       "(444313, 20)"
      ]
     },
     "execution_count": 34,
     "metadata": {},
     "output_type": "execute_result"
    }
   ],
   "source": [
    "filtered_data.shape"
   ]
  },
  {
   "cell_type": "code",
   "execution_count": 35,
   "metadata": {
    "ExecuteTime": {
     "end_time": "2020-08-27T15:43:25.105392Z",
     "start_time": "2020-08-27T15:43:19.663189Z"
    }
   },
   "outputs": [
    {
     "name": "stdout",
     "output_type": "stream",
     "text": [
      "Train Size\n",
      "(444213, 2)\n",
      "Test Size\n",
      "(100, 2)\n"
     ]
    }
   ],
   "source": [
    "train_out_df = filtered_data[['input_text','output_text']].iloc[0:-100]\n",
    "test_out_df = filtered_data[['input_text','output_text']].iloc[-100:]\n",
    "train_out_df.to_csv('train'+file_name,sep='\\t',index=None,header=False)\n",
    "test_out_df.to_csv('test'+file_name,sep='\\t',index=None,header=False)\n",
    "train_out_df.sample(250).to_csv('dev'+file_name,sep='\\t',index=None,header=False)\n",
    "\n",
    "print('Train Size')\n",
    "print(train_out_df.shape)\n",
    "print('Test Size')\n",
    "print(test_out_df.shape)"
   ]
  }
 ],
 "metadata": {
  "kernelspec": {
   "display_name": "Python 3",
   "language": "python",
   "name": "python3"
  },
  "language_info": {
   "codemirror_mode": {
    "name": "ipython",
    "version": 3
   },
   "file_extension": ".py",
   "mimetype": "text/x-python",
   "name": "python",
   "nbconvert_exporter": "python",
   "pygments_lexer": "ipython3",
   "version": "3.7.3"
  }
 },
 "nbformat": 4,
 "nbformat_minor": 2
}
